{
  "nbformat": 4,
  "nbformat_minor": 0,
  "metadata": {
    "colab": {
      "name": "ReadingData.ipynb",
      "provenance": [],
      "include_colab_link": true
    },
    "kernelspec": {
      "name": "python3",
      "display_name": "Python 3"
    },
    "accelerator": "GPU"
  },
  "cells": [
    {
      "cell_type": "markdown",
      "metadata": {
        "id": "view-in-github",
        "colab_type": "text"
      },
      "source": [
        "<a href=\"https://colab.research.google.com/github/kreshuklab/teaching-dl-course-2019/blob/master/Webinars/exercise1/ReadingData.ipynb\" target=\"_parent\"><img src=\"https://colab.research.google.com/assets/colab-badge.svg\" alt=\"Open In Colab\"/></a>"
      ]
    },
    {
      "cell_type": "markdown",
      "metadata": {
        "id": "3BDW5sY-dBnC",
        "colab_type": "text"
      },
      "source": [
        "# Reading and saving data for a classification model\n",
        "In this notebook, we first will read images and their corresponding labels and then will wrap and save them in a single file on disk (or google drive). It helps us a lot later to avoid reading so much data each time when we are working with our models.\n",
        "We will use the python pickle module to wrap images in a single file. Any object in Python can be pickled so that it can be saved on disk. \n",
        "Pickling is a way to convert a python object (list, dict, etc.) into a character stream. The idea is that this character stream contains all the information necessary to reconstruct the object in another python script."
      ]
    },
    {
      "cell_type": "markdown",
      "metadata": {
        "id": "KIS7BobWfDEK",
        "colab_type": "text"
      },
      "source": [
        "# **Make a connection between colab and your google drive Where your data are saved.**"
      ]
    },
    {
      "cell_type": "code",
      "metadata": {
        "id": "NY_WCus6Vy4l",
        "colab_type": "code",
        "colab": {
          "base_uri": "https://localhost:8080/",
          "height": 122
        },
        "outputId": "9ba94141-be62-4bcf-b6af-c12f8e070377"
      },
      "source": [
        "from google.colab import drive\n",
        "root = '/content/gdrive/'\n",
        "drive.mount( root )"
      ],
      "execution_count": 1,
      "outputs": [
        {
          "output_type": "stream",
          "text": [
            "Go to this URL in a browser: https://accounts.google.com/o/oauth2/auth?client_id=947318989803-6bn6qk8qdgf4n4g3pfee6491hc0brc4i.apps.googleusercontent.com&redirect_uri=urn%3aietf%3awg%3aoauth%3a2.0%3aoob&response_type=code&scope=email%20https%3a%2f%2fwww.googleapis.com%2fauth%2fdocs.test%20https%3a%2f%2fwww.googleapis.com%2fauth%2fdrive%20https%3a%2f%2fwww.googleapis.com%2fauth%2fdrive.photos.readonly%20https%3a%2f%2fwww.googleapis.com%2fauth%2fpeopleapi.readonly\n",
            "\n",
            "Enter your authorization code:\n",
            "··········\n",
            "Mounted at /content/gdrive/\n"
          ],
          "name": "stdout"
        }
      ]
    },
    {
      "cell_type": "code",
      "metadata": {
        "id": "xKiPEN9K3L3G",
        "colab_type": "code",
        "colab": {
          "base_uri": "https://localhost:8080/",
          "height": 34
        },
        "outputId": "3c6f0f85-c410-4d0a-aed9-9f0fecfdc0e5"
      },
      "source": [
        "import os\n",
        "dir_path = r'/My Drive/drive_ml/2020_ml_school/01_example_fs_tests/'\n",
        "cifar_dir_path = r'/My Drive/drive_ml/2020_ml_school/02_cifar/'\n",
        "os.listdir(root+dir_path)\n",
        "#os.listdir(root+cifar_dir_path)"
      ],
      "execution_count": 31,
      "outputs": [
        {
          "output_type": "execute_result",
          "data": {
            "text/plain": [
              "['01.png', 'X.pickle', 'Y.pickle']"
            ]
          },
          "metadata": {
            "tags": []
          },
          "execution_count": 31
        }
      ]
    },
    {
      "cell_type": "markdown",
      "metadata": {
        "id": "M2QTJEh7bgal",
        "colab_type": "text"
      },
      "source": [
        "# **Import necessary Libraries**"
      ]
    },
    {
      "cell_type": "code",
      "metadata": {
        "id": "LnStabZOSK0O",
        "colab_type": "code",
        "colab": {}
      },
      "source": [
        "import numpy as np   # Package for scientific computing\n",
        "import matplotlib.pyplot as plt # 2D plotting library\n",
        "import os     # Using operating system\n",
        "# NOTE: in the tutorials we used cv2 for reading images and resizing.\n",
        "# we replaced this with imageio.imread and skimage.transform.resize\n",
        "# because opencv can cause some dependency issues\n",
        "#from imageio import imread\n",
        "#from skimage.transform import resize\n",
        "import cv2    # Computer vision and machine learning software library\n",
        "from tqdm import tqdm   # Progress bar library\n",
        "import random  # Generating Random Numbers\n",
        "import pickle # Serializing and de-serializing a Python object structure\n",
        "from os.path import join as pj # for path ops"
      ],
      "execution_count": 0,
      "outputs": []
    },
    {
      "cell_type": "markdown",
      "metadata": {
        "id": "4K-UfXaQbvZX",
        "colab_type": "text"
      },
      "source": [
        "# **Reading and saving data** \n",
        "What we need is a training data directory (and/or validation data directory)  containing one subdirectory per image class, filled with images. For example: \n",
        "\n",
        "```\n",
        "Animals/\n",
        "    train/\n",
        "        dogs/\n",
        "            dog001.jpg\n",
        "            dog002.jpg\n",
        "            ...\n",
        "        cats/\n",
        "            cat001.jpg\n",
        "            cat002.jpg\n",
        "            ...\n",
        "```\n",
        "\n"
      ]
    },
    {
      "cell_type": "markdown",
      "metadata": {
        "id": "--upd4Y4znu-",
        "colab_type": "text"
      },
      "source": [
        "If you don't have your own data now, you could use the [cifar10](https://www.cs.toronto.edu/~kriz/cifar.html). For this you would have to run the following cell:"
      ]
    },
    {
      "cell_type": "code",
      "metadata": {
        "id": "YbPhLihUz5g4",
        "colab_type": "code",
        "colab": {
          "base_uri": "https://localhost:8080/",
          "height": 613
        },
        "outputId": "800d6dcf-a290-4580-f88f-2737379dd1fc"
      },
      "source": [
        "\n",
        "!pip install cifar2png\n",
        "!cifar2png cifar10 cifar10\n",
        "#!cifar2png {root+cifar_dir_path} cifar10"
      ],
      "execution_count": 4,
      "outputs": [
        {
          "output_type": "stream",
          "text": [
            "Collecting cifar2png\n",
            "  Downloading https://files.pythonhosted.org/packages/ec/19/b92d71d4c062488308f59b53d51792e111d77caac675e40f112c6b1e7f9f/cifar2png-0.0.4.tar.gz\n",
            "Requirement already satisfied: numpy in /usr/local/lib/python3.6/dist-packages (from cifar2png) (1.17.4)\n",
            "Requirement already satisfied: pathlib in /usr/local/lib/python3.6/dist-packages (from cifar2png) (1.0.1)\n",
            "Collecting Pillow>=6.2.0\n",
            "\u001b[?25l  Downloading https://files.pythonhosted.org/packages/10/5c/0e94e689de2476c4c5e644a3bd223a1c1b9e2bdb7c510191750be74fa786/Pillow-6.2.1-cp36-cp36m-manylinux1_x86_64.whl (2.1MB)\n",
            "\u001b[K     |████████████████████████████████| 2.1MB 4.7MB/s \n",
            "\u001b[?25hRequirement already satisfied: requests>=2.20.0 in /usr/local/lib/python3.6/dist-packages (from cifar2png) (2.21.0)\n",
            "Requirement already satisfied: six in /usr/local/lib/python3.6/dist-packages (from cifar2png) (1.12.0)\n",
            "Requirement already satisfied: tqdm in /usr/local/lib/python3.6/dist-packages (from cifar2png) (4.28.1)\n",
            "Requirement already satisfied: chardet<3.1.0,>=3.0.2 in /usr/local/lib/python3.6/dist-packages (from requests>=2.20.0->cifar2png) (3.0.4)\n",
            "Requirement already satisfied: certifi>=2017.4.17 in /usr/local/lib/python3.6/dist-packages (from requests>=2.20.0->cifar2png) (2019.9.11)\n",
            "Requirement already satisfied: urllib3<1.25,>=1.21.1 in /usr/local/lib/python3.6/dist-packages (from requests>=2.20.0->cifar2png) (1.24.3)\n",
            "Requirement already satisfied: idna<2.9,>=2.5 in /usr/local/lib/python3.6/dist-packages (from requests>=2.20.0->cifar2png) (2.8)\n",
            "Building wheels for collected packages: cifar2png\n",
            "  Building wheel for cifar2png (setup.py) ... \u001b[?25l\u001b[?25hdone\n",
            "  Created wheel for cifar2png: filename=cifar2png-0.0.4-cp36-none-any.whl size=5934 sha256=691b70db99aff045ea90791886975da4cbf3cad9241638ecd25f02bd9819c0cc\n",
            "  Stored in directory: /root/.cache/pip/wheels/88/74/1b/879adc36940e0e572a5999df305d325778a460cbfd6555a981\n",
            "Successfully built cifar2png\n",
            "\u001b[31mERROR: albumentations 0.1.12 has requirement imgaug<0.2.7,>=0.2.5, but you'll have imgaug 0.2.9 which is incompatible.\u001b[0m\n",
            "Installing collected packages: Pillow, cifar2png\n",
            "  Found existing installation: Pillow 4.3.0\n",
            "    Uninstalling Pillow-4.3.0:\n",
            "      Successfully uninstalled Pillow-4.3.0\n",
            "Successfully installed Pillow-6.2.1 cifar2png-0.0.4\n"
          ],
          "name": "stdout"
        },
        {
          "output_type": "display_data",
          "data": {
            "application/vnd.colab-display-data+json": {
              "pip_warning": {
                "packages": [
                  "PIL"
                ]
              }
            }
          },
          "metadata": {
            "tags": []
          }
        },
        {
          "output_type": "stream",
          "text": [
            "cifar-10-python.tar.gz does not exists.\n",
            "Downloading cifar-10-python.tar.gz\n",
            "167kKB [00:04, 40.1kKB/s]              \n",
            "Saving train images: 100% 50000/50000 [00:17<00:00, 2904.35it/s]\n",
            "Saving test images: 100% 10000/10000 [00:03<00:00, 2981.66it/s]\n"
          ],
          "name": "stdout"
        }
      ]
    },
    {
      "cell_type": "code",
      "metadata": {
        "id": "0MkRv0jlSQAv",
        "colab_type": "code",
        "colab": {
          "base_uri": "https://localhost:8080/",
          "height": 34
        },
        "outputId": "f23d26e9-24bc-4e2b-b71e-f0f9b9c677a8"
      },
      "source": [
        "DATADIR = dir_path   # You have to replace the directory of you images instead of \"PathToYourDirectory\".\n",
        "                                                        # For example \"/content/gdrive/My Drive/Animals/train\"\n",
        "DATADIR = \"cifar10/train\"     # for people working on cifar the data is stored locally\n",
        "\n",
        "CATEGORIES = os.listdir(DATADIR)\n",
        "print(CATEGORIES)"
      ],
      "execution_count": 5,
      "outputs": [
        {
          "output_type": "stream",
          "text": [
            "['ship', 'deer', 'automobile', 'frog', 'cat', 'airplane', 'dog', 'truck', 'horse', 'bird']\n"
          ],
          "name": "stdout"
        }
      ]
    },
    {
      "cell_type": "code",
      "metadata": {
        "id": "h9qrfUw9ZFuh",
        "colab_type": "code",
        "colab": {}
      },
      "source": [
        "training_data = []\n",
        "IMG_SIZE_H=128 # in a case of resize to normalize data size\n",
        "IMG_SIZE_W=128 # in a case of resize to normalize data size\n",
        "def create_training_data():\n",
        "    for category in CATEGORIES:  # do plants and weeds\n",
        "\n",
        "        path = os.path.join(DATADIR,category)  # create path to plants and weeds\n",
        "        class_num = CATEGORIES.index(category)  # get the classification  (0 or a 1). 0=plants 1=weeds\n",
        "\n",
        "        for img in tqdm(os.listdir(path)):  # iterate over each image per plants and weeds\n",
        "        \n",
        "            img_array = cv2.imread(os.path.join(path,img))  # convert to array \n",
        "            new_array = cv2.resize(img_array, (IMG_SIZE_H, IMG_SIZE_W))  # resize to normalize data size\n",
        "            training_data.append([new_array, class_num])  # add this to our training_data"
      ],
      "execution_count": 0,
      "outputs": []
    },
    {
      "cell_type": "code",
      "metadata": {
        "id": "wqQCG_kabahR",
        "colab_type": "code",
        "colab": {
          "base_uri": "https://localhost:8080/",
          "height": 204
        },
        "outputId": "f1268f51-ea10-4000-f5fc-e27916eac7fc"
      },
      "source": [
        "create_training_data()  # Calling the function for reading images and labels\n",
        "print(len(training_data)) # Printing the size of the database"
      ],
      "execution_count": 18,
      "outputs": [
        {
          "output_type": "stream",
          "text": [
            "100%|██████████| 5000/5000 [00:00<00:00, 8757.47it/s]\n",
            "100%|██████████| 5000/5000 [00:00<00:00, 8716.39it/s]\n",
            "100%|██████████| 5000/5000 [00:00<00:00, 7880.65it/s]\n",
            "100%|██████████| 5000/5000 [00:00<00:00, 6877.80it/s]\n",
            "100%|██████████| 5000/5000 [00:00<00:00, 7010.31it/s]\n",
            "100%|██████████| 5000/5000 [00:00<00:00, 6415.88it/s]\n",
            "100%|██████████| 5000/5000 [00:00<00:00, 6983.67it/s]\n",
            "100%|██████████| 5000/5000 [00:00<00:00, 6958.78it/s]\n",
            "100%|██████████| 5000/5000 [00:00<00:00, 6992.89it/s]\n",
            "100%|██████████| 5000/5000 [00:00<00:00, 7241.26it/s]"
          ],
          "name": "stderr"
        },
        {
          "output_type": "stream",
          "text": [
            "50000\n"
          ],
          "name": "stdout"
        },
        {
          "output_type": "stream",
          "text": [
            "\n"
          ],
          "name": "stderr"
        }
      ]
    },
    {
      "cell_type": "markdown",
      "metadata": {
        "id": "--na-6HMb9Lf",
        "colab_type": "text"
      },
      "source": [
        "# **Preparation of data for deeplearning**"
      ]
    },
    {
      "cell_type": "code",
      "metadata": {
        "id": "rgbO6BszcCM_",
        "colab_type": "code",
        "colab": {
          "base_uri": "https://localhost:8080/",
          "height": 34
        },
        "outputId": "b6b539fb-bf39-4328-8a40-69e8e6560004"
      },
      "source": [
        "random.shuffle(training_data)   # Shuffling data\n",
        "X = []  # An Array for images\n",
        "y = []  # An Array for labels\n",
        "\n",
        "for features,label in training_data:   # Seperation of iamegs and labels\n",
        "    X.append(features)\n",
        "    y.append(label)\n",
        "print(np.array(X).shape) # Print the size of the database"
      ],
      "execution_count": 19,
      "outputs": [
        {
          "output_type": "stream",
          "text": [
            "(50000, 128, 128, 3)\n"
          ],
          "name": "stdout"
        }
      ]
    },
    {
      "cell_type": "code",
      "metadata": {
        "id": "z6eNye7Ecl-J",
        "colab_type": "code",
        "colab": {
          "base_uri": "https://localhost:8080/",
          "height": 34
        },
        "outputId": "4f1af33d-5ed8-47b8-daeb-5d89f8d2c08b"
      },
      "source": [
        "X = np.array(X).reshape(-1, IMG_SIZE_H, IMG_SIZE_W, 3)  # Reshape data in a form that is suitable for keras\n",
        "print(X.shape) # Print the size of the database"
      ],
      "execution_count": 20,
      "outputs": [
        {
          "output_type": "stream",
          "text": [
            "(50000, 128, 128, 3)\n"
          ],
          "name": "stdout"
        }
      ]
    },
    {
      "cell_type": "markdown",
      "metadata": {
        "id": "iIjKMSy4ydIR",
        "colab_type": "text"
      },
      "source": [
        "# **Visualisation and Saving**"
      ]
    },
    {
      "cell_type": "code",
      "metadata": {
        "id": "qgM21lmdya9D",
        "colab_type": "code",
        "colab": {
          "base_uri": "https://localhost:8080/",
          "height": 150
        },
        "outputId": "35be9659-0fb3-468f-c778-9dd037a67ae0"
      },
      "source": [
        "# plot 3 images as gray scale\n",
        "plt.subplot(131)\n",
        "plt.imshow(X[0,:,:,0], cmap=plt.get_cmap('gray'))\n",
        "plt.subplot(132)\n",
        "plt.imshow(X[1,:,:,0], cmap=plt.get_cmap('gray'))\n",
        "plt.subplot(133)\n",
        "plt.imshow(X[1,:,:,1], cmap=plt.get_cmap('gray')) #CIFAR data contains 3 channels, here we display 2nd channel for 1st image\n",
        "# show the plot\n",
        "plt.show()"
      ],
      "execution_count": 21,
      "outputs": [
        {
          "output_type": "display_data",
          "data": {
            "image/png": "[encoded data removed]",
            "text/plain": [
              "<Figure size 432x288 with 3 Axes>"
            ]
          },
          "metadata": {
            "tags": []
          }
        }
      ]
    },
    {
      "cell_type": "code",
      "metadata": {
        "id": "dlNKV8fscwlG",
        "colab_type": "code",
        "colab": {}
      },
      "source": [
        "fn_X = \"X.pickle\"\n",
        "fn_Y = \"Y.pickle\"\n",
        "\n",
        "pickle_out = open(root+dir_path+fn_X,\"wb\") # wrapping up images # You have to replace the directory of you images instead of \"PathToSaveTheFile\".\n",
        "                                                        # For example \"/content/gdrive/My Drive/MyFolder/X.pickle\"\n",
        "pickle.dump(X, pickle_out)\n",
        "pickle_out.close()\n",
        "\n",
        "pickle_out = open(root+dir_path+fn_Y,\"wb\") # wrapping up labels # You have to replace the directory of you images instead of \"PathToSaveTheFile\".\n",
        "                                                        # For example \"/content/gdrive/My Drive/MyFolder/y.pickle\"\n",
        "pickle.dump(y, pickle_out)\n",
        "pickle_out.close()"
      ],
      "execution_count": 0,
      "outputs": []
    }
  ]
}